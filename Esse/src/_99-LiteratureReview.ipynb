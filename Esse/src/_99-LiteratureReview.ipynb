{
 "cells": [
  {
   "cell_type": "code",
   "execution_count": 1,
   "metadata": {},
   "outputs": [
    {
     "name": "stdout",
     "output_type": "stream",
     "text": [
      " ### test init### \n"
     ]
    }
   ],
   "source": [
    "from all_imports import *\n",
    "import requests\n",
    "import csv\n",
    "import _modules "
   ]
  },
  {
   "cell_type": "code",
   "execution_count": 4,
   "metadata": {},
   "outputs": [
    {
     "name": "stdout",
     "output_type": "stream",
     "text": [
      "Data saved to scopus_outdoor_thermal_comfort.csv\n"
     ]
    }
   ],
   "source": [
    "# Configuration\n",
    "API_KEY = _modules.SCOPUS_API_KEY # Replace with your Scopus API key\n",
    "SEARCH_QUERY = 'TITLE-ABS-KEY(\"outdoor thermal comfort\") AND PUBYEAR AFT 1999 AND PUBYEAR BEF 2025'\n",
    "BASE_URL = 'https://api.elsevier.com/content/search/scopus'\n",
    "CSV_FILENAME = 'scopus_outdoor_thermal_comfort.csv'\n",
    "\n",
    "# Function to fetch papers from Scopus API\n",
    "def fetch_papers(api_key, query):\n",
    "    headers = {\n",
    "        'X-ELS-APIKey': api_key,\n",
    "        'Accept': 'application/json'\n",
    "    }\n",
    "    \n",
    "    params = {\n",
    "        'query': query,\n",
    "        'view': 'STANDARD',  # You can change this to 'COMPLETE' if your access allows\n",
    "        'count': 25  # Number of results per page\n",
    "    }\n",
    "\n",
    "    papers = []\n",
    "    start_index = 0\n",
    "    \n",
    "    while True:\n",
    "        params['start'] = start_index\n",
    "        response = requests.get(BASE_URL, headers=headers, params=params)\n",
    "\n",
    "        if response.status_code != 200:\n",
    "            print(f\"Error fetching data: {response.status_code}, {response.text}\")\n",
    "            break\n",
    "\n",
    "        data = response.json()\n",
    "\n",
    "        if 'search-results' not in data or 'entry' not in data['search-results']:\n",
    "            break\n",
    "\n",
    "        entries = data['search-results']['entry']\n",
    "        if not entries:\n",
    "            break\n",
    "\n",
    "        for entry in entries:\n",
    "            doi = entry.get('prism:doi', 'N/A')\n",
    "            title = entry.get('dc:title', 'N/A')\n",
    "            authors = entry.get('dc:creator', 'N/A')\n",
    "            publication_date = entry.get('prism:coverDate', 'N/A')\n",
    "            volume = entry.get('prism:volume', 'N/A')\n",
    "            issue = entry.get('prism:issueIdentifier', 'N/A')\n",
    "            keywords = entry.get('authkeywords', 'N/A')\n",
    "            document_type = entry.get('subtypeDescription', 'N/A')\n",
    "\n",
    "            if isinstance(keywords, list):\n",
    "                keywords = '; '.join(keywords)\n",
    "\n",
    "            papers.append({\n",
    "                'DOI': doi,\n",
    "                'Title': title,\n",
    "                'Authors': authors,\n",
    "                'Publication Date': publication_date,\n",
    "                'Volume': volume,\n",
    "                'Issue': issue,\n",
    "                'Keywords': keywords,\n",
    "                'Document Type': document_type\n",
    "            })\n",
    "\n",
    "        start_index += len(entries)\n",
    "        \n",
    "    return papers\n",
    "\n",
    "# Function to save papers to CSV\n",
    "def save_to_csv(filename, papers):\n",
    "    with open(filename, mode='w', newline='', encoding='utf-8') as file:\n",
    "        writer = csv.DictWriter(file, fieldnames=['DOI', 'Title', 'Authors', 'Publication Date', 'Volume', 'Issue', 'Keywords', 'Document Type'])\n",
    "        writer.writeheader()\n",
    "        for paper in papers:\n",
    "            writer.writerow(paper)\n",
    "    print(f\"Data saved to {filename}\")\n",
    "\n",
    "# Main script\n",
    "if __name__ == \"__main__\":\n",
    "    papers = fetch_papers(API_KEY, SEARCH_QUERY)\n",
    "    save_to_csv(CSV_FILENAME, papers)"
   ]
  }
 ],
 "metadata": {
  "kernelspec": {
   "display_name": "Python 3",
   "language": "python",
   "name": "python3"
  },
  "language_info": {
   "codemirror_mode": {
    "name": "ipython",
    "version": 3
   },
   "file_extension": ".py",
   "mimetype": "text/x-python",
   "name": "python",
   "nbconvert_exporter": "python",
   "pygments_lexer": "ipython3",
   "version": "3.10.0"
  }
 },
 "nbformat": 4,
 "nbformat_minor": 2
}
