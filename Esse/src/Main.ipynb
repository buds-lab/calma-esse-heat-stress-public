{
 "cells": [
  {
   "cell_type": "code",
   "execution_count": 2,
   "metadata": {},
   "outputs": [
    {
     "name": "stdout",
     "output_type": "stream",
     "text": [
      " ### test init### \n",
      " ### test ### \n",
      "c:\\Users\\gottk\\OneDrive\\GITHUB\\calma-esse-heat-stress-internal\\Esse\\src\n",
      "{'utilities': ['folder_variable_setup',\n",
      "               'pprint',\n",
      "               'print_functions_folder',\n",
      "               'query_participants_data',\n",
      "               'test1']}\n"
     ]
    }
   ],
   "source": [
    "from all_imports import *\n",
    "\n",
    "import _modules\n",
    "\n",
    "\n",
    "_modules.test1()\n",
    "\n",
    "#Prints all available functions of the _modules folder, generally ignores the '__init__.py', additional files can be added as str in a list.\n",
    "_modules.print_functions_folder(modules_folder='_modules') #ignore_files=['__init__.py']\n",
    "\n"
   ]
  },
  {
   "cell_type": "code",
   "execution_count": 5,
   "metadata": {},
   "outputs": [
    {
     "name": "stdout",
     "output_type": "stream",
     "text": [
      "RG2BjEFkzhmLUmNR0LdbaAAsF75EsWl6n07N2jOc\n",
      "2024-02-13_1523\n",
      "['c:\\\\Users\\\\gottk\\\\OneDrive\\\\GITHUB\\\\calma-esse-heat-stress-internal\\\\Esse\\\\src',\n",
      " 'c:\\\\Users\\\\gottk\\\\OneDrive\\\\GITHUB\\\\calma-esse-heat-stress-internal\\\\Esse\\\\data\\\\raw',\n",
      " 'c:\\\\Users\\\\gottk\\\\OneDrive\\\\GITHUB\\\\calma-esse-heat-stress-internal\\\\Esse\\\\data\\\\processed',\n",
      " 'c:\\\\Users\\\\gottk\\\\OneDrive\\\\GITHUB\\\\calma-esse-heat-stress-internal\\\\Esse\\\\report',\n",
      " '2024-02-13_1523']\n",
      "c:\\Users\\gottk\\OneDrive\\GITHUB\\calma-esse-heat-stress-internal\\Esse\\data\\raw\n"
     ]
    }
   ],
   "source": [
    "# <--- Settings --->\n",
    "\n",
    "YOUR_TIMEZONE = 'Asia/Singapore'\n",
    "ID_EXPERIMENT = 'esse'\n",
    "WEEKS = \"100\"  # Number of weeks from which the data is retrieved, ending now, i.e., start date look up: now - WEEKS, end date look up: now\n",
    " \n",
    "lst_participants = ['esse00', 'esse01'] #'esse04', 'esse05', 'esse06', 'esse03'\n",
    "\n",
    "man_identifier_stored_data = '2024-02-13_1207'\n",
    "\n",
    "#Enables additional print statements\n",
    "#mode_debugging = True\n",
    "\n",
    "# <--- Config.py --->\n",
    "#Store the not publicly available variables needed that are set in the config.py file\n",
    "API_KEY = _modules.API_KEY\n",
    "print(API_KEY)\n",
    "\n",
    "\n",
    "#Store all necessary folder paths for the directory\n",
    "(\n",
    "    directory_path,\n",
    "    directory_data_raw_path,\n",
    "    directory_data_processed_path,\n",
    "    directory_report_path,\n",
    "    identifier\n",
    ") = _modules.folder_variable_setup() #man_identifier = '2024-02-13_1500'\n",
    "\n",
    "pprint([directory_path, directory_data_raw_path, directory_data_processed_path, directory_report_path, identifier])\n",
    "\n",
    "\n",
    "print(directory_data_raw_path)\n"
   ]
  },
  {
   "cell_type": "code",
   "execution_count": 7,
   "metadata": {},
   "outputs": [
    {
     "name": "stdout",
     "output_type": "stream",
     "text": [
      "esse00\n"
     ]
    },
    {
     "name": "stderr",
     "output_type": "stream",
     "text": [
      "c:\\Users\\gottk\\OneDrive\\GITHUB\\calma-esse-heat-stress-internal\\Esse\\src\\_modules\\utilities.py:95: DtypeWarning: Columns (4,5,6,7,8,9,10,12,13,15,16,17,32,35,36,37,38,42,44,133,134,135,136) have mixed types. Specify dtype option on import or set low_memory=False.\n",
      "  df = pd.read_csv(f, compression={'method': 'zip', 'archive_name': 'sample.csv'})\n"
     ]
    },
    {
     "name": "stdout",
     "output_type": "stream",
     "text": [
      "esse01\n"
     ]
    },
    {
     "name": "stderr",
     "output_type": "stream",
     "text": [
      "c:\\Users\\gottk\\OneDrive\\GITHUB\\calma-esse-heat-stress-internal\\Esse\\src\\_modules\\utilities.py:95: DtypeWarning: Columns (4,5,6,7,8,9,10,12,13,16,17,29,37,38,39,40,44,46,59,60,62,63,101,102,104,105,141,142,143,144) have mixed types. Specify dtype option on import or set low_memory=False.\n",
      "  df = pd.read_csv(f, compression={'method': 'zip', 'archive_name': 'sample.csv'})\n"
     ]
    },
    {
     "name": "stdout",
     "output_type": "stream",
     "text": [
      "participant_esse00.csv\n",
      "participant_esse01.csv\n"
     ]
    },
    {
     "name": "stderr",
     "output_type": "stream",
     "text": [
      "C:\\Users\\gottk\\AppData\\Local\\Temp\\ipykernel_16792\\2533200328.py:37: DtypeWarning: Columns (2,3,4,5,6,7,8,10,11,13,14,15,30,33,34,35,36,40,42,131,132,133,134) have mixed types. Specify dtype option on import or set low_memory=False.\n",
      "  df = pd.read_csv(csv_path)\n",
      "C:\\Users\\gottk\\AppData\\Local\\Temp\\ipykernel_16792\\2533200328.py:37: DtypeWarning: Columns (2,3,4,5,6,7,8,10,11,14,15,27,35,36,37,38,42,44,57,58,60,61,99,100,102,103,139,140,141,142) have mixed types. Specify dtype option on import or set low_memory=False.\n",
      "  df = pd.read_csv(csv_path)\n"
     ]
    }
   ],
   "source": [
    "# <--- Load Data and Organize Cozie Data --->\n",
    "#This queries all defined participants in lst_participants and stores it into a dictionary.\n",
    "participant_data = _modules.query_participants_data(lst_participants, YOUR_TIMEZONE, ID_EXPERIMENT, WEEKS, API_KEY)\n",
    "\n",
    "#Here the data will be stored based on the identifier (time) under 'data\\raw' which can be later retreived again, for faster processing.\n",
    "directory_data_raw_identifier = os.path.join(directory_data_raw_path, identifier)\n",
    "if not os.path.exists(directory_data_raw_identifier):\n",
    "    os.makedirs(directory_data_raw_identifier)\n",
    "\n",
    "result_dfs = []\n",
    "for participant_id, df in participant_data.items():\n",
    "\n",
    "    result_df_participant = df \n",
    "    result_dfs.append(result_df_participant)\n",
    "    \n",
    "    # Define the file path for the CSV within identifier directory\n",
    "    csv_filename = f\"Cozie_participant_{participant_id}.csv\"\n",
    "    csv_path = os.path.join(directory_data_raw_identifier, csv_filename)\n",
    "    result_df_participant.to_csv(csv_path, index=False)\n",
    "\n",
    "#TODO Reload the Cozie data into another dataframe\n",
    "\n",
    "participant_data_local = {}\n",
    "\n",
    "if man_identifier_stored_data is not None:\n",
    "    directory_saved_data = os.path.join(directory_data_raw_path, man_identifier_stored_data)\n",
    "    # Check if it is available\n",
    "    if os.path.exists(directory_saved_data):\n",
    "        for filename in os.listdir(directory_saved_data):\n",
    "            if filename.endswith(\".csv\"):\n",
    "                print(filename)\n",
    "                # Extract participant ID from the filename\n",
    "                participant_id = filename.split(\"_\")[1].split(\".\")[0]\n",
    "\n",
    "                # Read CSV file into a DataFrame\n",
    "                csv_path = os.path.join(directory_saved_data, filename)\n",
    "                df = pd.read_csv(csv_path)\n",
    "\n",
    "                # Add DataFrame to participant_data dictionary\n",
    "                participant_data_local[participant_id] = df\n",
    "    else:\n",
    "        print(f\"Directory {directory_saved_data} does not exist or the man_identifier_stored_data is empty\")\n",
    "        directory_saved_data = directory_data_raw_identifier\n",
    "    \n",
    "\n",
    "\n",
    "\n",
    "\n",
    "\n",
    "\n",
    "\n",
    "\n",
    "#TODO Add Stats here about the dataframe and display it in graphs"
   ]
  },
  {
   "cell_type": "code",
   "execution_count": 9,
   "metadata": {},
   "outputs": [
    {
     "data": {
      "text/html": [
       "<div>\n",
       "<style scoped>\n",
       "    .dataframe tbody tr th:only-of-type {\n",
       "        vertical-align: middle;\n",
       "    }\n",
       "\n",
       "    .dataframe tbody tr th {\n",
       "        vertical-align: top;\n",
       "    }\n",
       "\n",
       "    .dataframe thead th {\n",
       "        text-align: right;\n",
       "    }\n",
       "</style>\n",
       "<table border=\"1\" class=\"dataframe\">\n",
       "  <thead>\n",
       "    <tr style=\"text-align: right;\">\n",
       "      <th></th>\n",
       "      <th>participant_id</th>\n",
       "      <th>rows</th>\n",
       "      <th>columns</th>\n",
       "      <th>q_general_location_area</th>\n",
       "      <th>ws_heart_rate</th>\n",
       "      <th>ws_latitude</th>\n",
       "      <th>ts_latitude</th>\n",
       "      <th>location_change</th>\n",
       "      <th>ws_walking_distance</th>\n",
       "      <th>ws_survey_count</th>\n",
       "    </tr>\n",
       "  </thead>\n",
       "  <tbody>\n",
       "    <tr>\n",
       "      <th>0</th>\n",
       "      <td>esse00</td>\n",
       "      <td>7580</td>\n",
       "      <td>138</td>\n",
       "      <td>68</td>\n",
       "      <td>2363</td>\n",
       "      <td>68</td>\n",
       "      <td>151</td>\n",
       "      <td>151</td>\n",
       "      <td>1119</td>\n",
       "      <td>68</td>\n",
       "    </tr>\n",
       "    <tr>\n",
       "      <th>1</th>\n",
       "      <td>esse01</td>\n",
       "      <td>13087</td>\n",
       "      <td>146</td>\n",
       "      <td>115</td>\n",
       "      <td>2237</td>\n",
       "      <td>115</td>\n",
       "      <td>1215</td>\n",
       "      <td>1215</td>\n",
       "      <td>2714</td>\n",
       "      <td>115</td>\n",
       "    </tr>\n",
       "  </tbody>\n",
       "</table>\n",
       "</div>"
      ],
      "text/plain": [
       "  participant_id   rows  columns  q_general_location_area  ws_heart_rate  \\\n",
       "0         esse00   7580      138                       68           2363   \n",
       "1         esse01  13087      146                      115           2237   \n",
       "\n",
       "   ws_latitude  ts_latitude  location_change  ws_walking_distance  \\\n",
       "0           68          151              151                 1119   \n",
       "1          115         1215             1215                 2714   \n",
       "\n",
       "   ws_survey_count  \n",
       "0               68  \n",
       "1              115  "
      ]
     },
     "metadata": {},
     "output_type": "display_data"
    }
   ],
   "source": [
    "#stat_participants_data\n",
    "\n",
    "\n",
    "\n",
    "# Settings\n",
    "column_lst_items = ['q_general_location_area', 'ws_heart_rate', 'ws_latitude', 'ts_latitude', 'location_change', 'ws_walking_distance', 'ws_survey_count']\n",
    "#Add another list that defines if it should sum or count? Useful?\n",
    "\n",
    "#Function\n",
    "result_dfs = []\n",
    "for participant_id, df in participant_data_local.items(): #participant_data\n",
    "    # Create a dictionary to store the information for the current participant\n",
    "    participant_info = {'participant_id': participant_id, 'rows': df.shape[0], 'columns': df.shape[1]}\n",
    "\n",
    "    # Count non-null values for each specified column\n",
    "    for column_item in column_lst_items:\n",
    "        column_name = column_item\n",
    "        if column_item in df.columns:\n",
    "            data_count = df[column_item].count()\n",
    "            participant_info[column_name] = data_count\n",
    "        else:\n",
    "            participant_info[column_name] = 'n/a'\n",
    "\n",
    "    # Convert the participant_info dictionary to a DataFrame\n",
    "    result_df_participant = pd.DataFrame([participant_info])\n",
    "    # Append the result DataFrame for the current participant to the list\n",
    "    result_dfs.append(result_df_participant)\n",
    "\n",
    "# Concatenate all DataFrames in the list along the rows\n",
    "result_df = pd.concat(result_dfs, ignore_index=True)\n",
    "\n",
    "experiment_stat_df = result_df\n",
    "# Print the result DataFrame\n",
    "display(experiment_stat_df)\n",
    "\n"
   ]
  },
  {
   "cell_type": "code",
   "execution_count": null,
   "metadata": {},
   "outputs": [],
   "source": [
    "# Sample DataFrame\n",
    "import plotly.graph_objects as go\n",
    "\n",
    "# Define nodes\n",
    "nodes = ['A', 'B', 'C', 'D', 'E']\n",
    "\n",
    "# Define links\n",
    "links = [\n",
    "    {'source': 0, 'target': 1, 'value': 20},  # A -> B\n",
    "    {'source': 0, 'target': 2, 'value': 10},  # A -> C\n",
    "    {'source': 1, 'target': 3, 'value': 15},  # B -> D\n",
    "    {'source': 1, 'target': 4, 'value': 5},   # B -> E\n",
    "]\n",
    "\n",
    "# Create Sankey diagram\n",
    "fig = go.Figure(data=[go.Sankey(\n",
    "    node=dict(\n",
    "        label=nodes\n",
    "    ),\n",
    "    link=dict(\n",
    "        source=[link['source'] for link in links],\n",
    "        target=[link['target'] for link in links],\n",
    "        value=[link['value'] for link in links]\n",
    "    )\n",
    ")])\n",
    "\n",
    "# Update layout\n",
    "fig.update_layout(title_text=\"Basic Sankey Diagram\")\n",
    "\n",
    "# Show plot\n",
    "fig.show()"
   ]
  },
  {
   "cell_type": "markdown",
   "metadata": {},
   "source": []
  }
 ],
 "metadata": {
  "kernelspec": {
   "display_name": "Python 3",
   "language": "python",
   "name": "python3"
  },
  "language_info": {
   "codemirror_mode": {
    "name": "ipython",
    "version": 3
   },
   "file_extension": ".py",
   "mimetype": "text/x-python",
   "name": "python",
   "nbconvert_exporter": "python",
   "pygments_lexer": "ipython3",
   "version": "3.10.0"
  }
 },
 "nbformat": 4,
 "nbformat_minor": 2
}
