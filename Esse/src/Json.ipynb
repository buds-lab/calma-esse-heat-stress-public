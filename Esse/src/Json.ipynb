{
 "cells": [
  {
   "cell_type": "markdown",
   "metadata": {},
   "source": [
    "# Json\n",
    "\n",
    "This is the File to create the json study workflow and to check it"
   ]
  },
  {
   "cell_type": "code",
   "execution_count": 2,
   "metadata": {},
   "outputs": [
    {
     "name": "stdout",
     "output_type": "stream",
     "text": [
      " ### test init### \n"
     ]
    }
   ],
   "source": [
    "from all_imports import *\n",
    "\n",
    "import _modules\n",
    "\n",
    "\n",
    "# Settings\n",
    "White     = \"#FFFFFF\"\n",
    "Orange    = '#bb7011'\n",
    "lOrange   = '#c39c13'\n",
    "oGreen    = '#b8be10'\n",
    "lGreen    = '#7bba17'\n",
    "Green     = '#44b51b'\n",
    "Red       = '#FF0000'"
   ]
  },
  {
   "cell_type": "code",
   "execution_count": 3,
   "metadata": {},
   "outputs": [
    {
     "name": "stdout",
     "output_type": "stream",
     "text": [
      "['q_general_location_area',\n",
      " 'q_general_location_change',\n",
      " 'q_general_location_envi',\n",
      " 'q_indoor_condition',\n",
      " 'q_comfort_ind-activity',\n",
      " 'q_comfort_out-activity',\n",
      " 'q_comfort_sensation',\n",
      " 'q_comfort_behavioral',\n",
      " 'q_comfort_heatstress',\n",
      " 'q_comfort_heatintensity',\n",
      " 'q_comfort_heatsymptoms',\n",
      " 'q_comfort_wind',\n",
      " 'q_comfort_humidity',\n",
      " 'q_comfort_sun_a',\n",
      " 'q_comfort_sun_b',\n",
      " 'q_environment_shade',\n",
      " 'q_comfort_preference',\n",
      " 'q_clothing_insulation',\n",
      " 'q_clothing_color',\n",
      " 'q_clothing_material']\n",
      "Stored 'json_data' (dict)\n"
     ]
    }
   ],
   "source": [
    "# <--- Definition of Json File --->\n",
    "\n",
    "json_data = {\n",
    "  \"survey_name\": \"Outdoor Comfort - Heat Stress\",\n",
    "  \"survey_id\": \"OutdoorComfort_HeatStress\",\n",
    "  \"survey\": [{\n",
    "      \"question\": \"Are you on campus?\",\n",
    "      \"question_id\": \"q_general_location_area\",\n",
    "      \"response_options\": [{\n",
    "          \"text\": \"Yes\",\n",
    "          \"icon\": \"\",\n",
    "          \"icon_background_color\": White,\n",
    "          \"use_sf_symbols\": False,\n",
    "          \"sf_symbols_color\": \"#000000\",\n",
    "          \"next_question_id\": \"q_general_location_change\"\n",
    "        },\n",
    "        {\n",
    "          \"text\": \"No\",\n",
    "          \"icon\": \"\",\n",
    "          \"icon_background_color\": White,\n",
    "          \"use_sf_symbols\": False,\n",
    "          \"sf_symbols_color\": \"#000000\",\n",
    "          \"next_question_id\": \"q_general_location_change\"\n",
    "        },\n",
    "      ]\n",
    "    },\n",
    "    {\n",
    "      \"question\": \"How long ago did you change your location?\",\n",
    "      \"question_id\": \"q_general_location_change\",\n",
    "      \"response_options\": [{\n",
    "          \"text\": \"I did not change my location\",\n",
    "          \"icon\": \"\",\n",
    "          \"icon_background_color\": White,\n",
    "          \"use_sf_symbols\": False,\n",
    "          \"sf_symbols_color\": \"#000000\",\n",
    "          \"next_question_id\": \"q_general_location_envi\"\n",
    "        },\n",
    "        {\n",
    "          \"text\": \"Less than 5min ago\",\n",
    "          \"icon\": \"\", #ICON ADD\n",
    "          \"icon_background_color\": White,\n",
    "          \"use_sf_symbols\": False,\n",
    "          \"sf_symbols_color\": \"#000000\",\n",
    "          \"next_question_id\": \"q_general_location_envi\"\n",
    "        },\n",
    "        {\n",
    "          \"text\": \"Less than 10min ago\",\n",
    "          \"icon\": \"\", #ICON ADD\n",
    "          \"icon_background_color\": White,\n",
    "          \"use_sf_symbols\": False,\n",
    "          \"sf_symbols_color\": \"#000000\",\n",
    "          \"next_question_id\": \"q_general_location_envi\"\n",
    "        },\n",
    "        {\n",
    "          \"text\": \"Less than 15min ago\",\n",
    "          \"icon\": \"\", #ICON ADD\n",
    "          \"icon_background_color\": White,\n",
    "          \"use_sf_symbols\": False,\n",
    "          \"sf_symbols_color\": \"#000000\",\n",
    "          \"next_question_id\": \"q_general_location_envi\"\n",
    "        },\n",
    "        {\n",
    "          \"text\": \"More than 15min ago\",\n",
    "          \"icon\": \"\", #ICON ADD\n",
    "          \"icon_background_color\": Orange,\n",
    "          \"use_sf_symbols\": False,\n",
    "          \"sf_symbols_color\": \"#000000\",\n",
    "          \"next_question_id\": \"q_general_location_envi\"\n",
    "        }\n",
    "      ]\n",
    "    },\n",
    "    {\n",
    "      \"question\": \"Are you currently indoor or outdoor?\",\n",
    "      \"question_id\": \"q_general_location_envi\",\n",
    "      \"response_options\": [{\n",
    "          \"text\": \"Indoor\",\n",
    "          \"icon\": \"\",\n",
    "          \"icon_background_color\": White,\n",
    "          \"use_sf_symbols\": False,\n",
    "          \"sf_symbols_color\": \"#000000\",\n",
    "          \"next_question_id\": \"q_indoor_condition\"\n",
    "        },\n",
    "        {\n",
    "          \"text\": \"Outdoor\",\n",
    "          \"icon\": \"\",\n",
    "          \"icon_background_color\": White,\n",
    "          \"use_sf_symbols\": False,\n",
    "          \"sf_symbols_color\": \"#000000\",\n",
    "          \"next_question_id\": \"q_comfort_out-activity\"\n",
    "        },\n",
    "        {\n",
    "          \"text\": \"Semi-Outdoor\",\n",
    "          \"icon\": \"\",\n",
    "          \"icon_background_color\": White,\n",
    "          \"use_sf_symbols\": False,\n",
    "          \"sf_symbols_color\": \"#000000\",\n",
    "          \"next_question_id\": \"q_comfort_out-activity\"\n",
    "        },\n",
    "        {\n",
    "          \"text\": \"I am not sure\",\n",
    "          \"icon\": \"\",\n",
    "          \"icon_background_color\": White,\n",
    "          \"use_sf_symbols\": False,\n",
    "          \"sf_symbols_color\": \"#000000\",\n",
    "          \"next_question_id\": \"q_comfort_out-activity\"\n",
    "        }\n",
    "      ]\n",
    "#---------------------------------------------------------------------------------------------\n",
    "#--------------------------------------Indoor Questions --------------------------------------\n",
    "#---------------------------------------------------------------------------------------------\n",
    "    },\n",
    "    {\n",
    "      \"question\": \"How is your current environment conditioned?\",\n",
    "      \"question_id\": \"q_indoor_condition\",\n",
    "      \"response_options\": [{\n",
    "          \"text\": \"Air conditioned\",\n",
    "          \"icon\": \"\", #ICON\n",
    "          \"icon_background_color\": White,\n",
    "          \"use_sf_symbols\": False,\n",
    "          \"sf_symbols_color\": \"#000000\",\n",
    "          \"next_question_id\": \"q_comfort_ind-activity\"\n",
    "        },\n",
    "        {\n",
    "          \"text\": \"Natural Ventilation\",\n",
    "          \"icon\": \"\", #ICON\n",
    "          \"icon_background_color\": White,\n",
    "          \"use_sf_symbols\": False,\n",
    "          \"sf_symbols_color\": \"#000000\",\n",
    "          \"next_question_id\": \"q_comfort_ind-activity\"\n",
    "        },\n",
    "        {\n",
    "          \"text\": \"Natural Ventilation + Fans\",\n",
    "          \"icon\": \"\",  #ICON\n",
    "          \"icon_background_color\": White,\n",
    "          \"use_sf_symbols\": False,\n",
    "          \"sf_symbols_color\": \"#000000\",\n",
    "          \"next_question_id\": \"q_comfort_ind-activity\"\n",
    "        },\n",
    "        {\n",
    "          \"text\": \"Air conditioning + Fans\",\n",
    "          \"icon\": \"\",  #ICON\n",
    "          \"icon_background_color\": White,\n",
    "          \"use_sf_symbols\": False,\n",
    "          \"sf_symbols_color\": \"#000000\",\n",
    "          \"next_question_id\": \"q_comfort_ind-activity\"\n",
    "        }\n",
    "      ]\n",
    "    },\n",
    "    {\n",
    "      \"question\": \"What was your main activity since the past 30mins?\",\n",
    "      \"question_id\": \"q_comfort_ind-activity\",\n",
    "      \"response_options\": [{\n",
    "          \"text\": \"Sitting\",\n",
    "          \"icon\": \"\", #ICON\n",
    "          \"icon_background_color\": White,\n",
    "          \"use_sf_symbols\": False,\n",
    "          \"sf_symbols_color\": \"#000000\",\n",
    "          \"next_question_id\": \"q_comfort_preference\"\n",
    "        },\n",
    "        {\n",
    "          \"text\": \"Walking\",\n",
    "          \"icon\": \"\",#ICON\n",
    "          \"icon_background_color\": White,\n",
    "          \"use_sf_symbols\": False,\n",
    "          \"sf_symbols_color\": \"#000000\",\n",
    "          \"next_question_id\": \"q_comfort_preference\"\n",
    "        },\n",
    "        {\n",
    "          \"text\": \"Standing\",\n",
    "          \"icon\": \"\",#ICON\n",
    "          \"icon_background_color\": White,\n",
    "          \"use_sf_symbols\": False,\n",
    "          \"sf_symbols_color\": \"#000000\",\n",
    "          \"next_question_id\": \"q_comfort_preference\"\n",
    "        },\n",
    "        {\n",
    "          \"text\": \"Exercising\",\n",
    "          \"icon\": \"\",#ICON\n",
    "          \"icon_background_color\": White,\n",
    "          \"use_sf_symbols\": False,\n",
    "          \"sf_symbols_color\": \"#000000\",\n",
    "          \"next_question_id\": \"q_comfort_preference\"\n",
    "        },\n",
    "        {\n",
    "          \"text\": \"Manual Labor\",\n",
    "          \"icon\": \"\",#ICON\n",
    "          \"icon_background_color\": White,\n",
    "          \"use_sf_symbols\": False,\n",
    "          \"sf_symbols_color\": \"#000000\",\n",
    "          \"next_question_id\": \"q_comfort_preference\"\n",
    "        }\n",
    "      ]\n",
    "    },\n",
    "#---------------------------------------------------------------------------------------------\n",
    "#--------------------------------------Main Path Questions -----------------------------------\n",
    "#---------------------------------------------------------------------------------------------\n",
    "    {\n",
    "      \"question\": \"What was your main activity since the past 30mins?\",\n",
    "      \"question_id\": \"q_comfort_out-activity\",\n",
    "      \"response_options\": [{\n",
    "          \"text\": \"Sitting\",\n",
    "          \"icon\": \"\", #ICON\n",
    "          \"icon_background_color\": White,\n",
    "          \"use_sf_symbols\": False,\n",
    "          \"sf_symbols_color\": \"#000000\",\n",
    "          \"next_question_id\": \"q_comfort_sensation\"\n",
    "        },\n",
    "        {\n",
    "          \"text\": \"Walking\",\n",
    "          \"icon\": \"\",#ICON\n",
    "          \"icon_background_color\": White,\n",
    "          \"use_sf_symbols\": False,\n",
    "          \"sf_symbols_color\": \"#000000\",\n",
    "          \"next_question_id\": \"q_comfort_sensation\"\n",
    "        },\n",
    "        {\n",
    "          \"text\": \"Standing\",\n",
    "          \"icon\": \"\",#ICON\n",
    "          \"icon_background_color\": White,\n",
    "          \"use_sf_symbols\": False,\n",
    "          \"sf_symbols_color\": \"#000000\",\n",
    "          \"next_question_id\": \"q_comfort_sensation\"\n",
    "        },\n",
    "        {\n",
    "          \"text\": \"Exercising\",\n",
    "          \"icon\": \"\",#ICON\n",
    "          \"icon_background_color\": White,\n",
    "          \"use_sf_symbols\": False,\n",
    "          \"sf_symbols_color\": \"#000000\",\n",
    "          \"next_question_id\": \"q_comfort_sensation\"\n",
    "        },\n",
    "        {\n",
    "          \"text\": \"Manual Labor\",\n",
    "          \"icon\": \"\",#ICON\n",
    "          \"icon_background_color\": White,\n",
    "          \"use_sf_symbols\": False,\n",
    "          \"sf_symbols_color\": \"#000000\",\n",
    "          \"next_question_id\": \"q_comfort_sensation\"\n",
    "        }\n",
    "      ]\n",
    "    },\n",
    "    {\n",
    "      \"question\": \"What is your general thermal sensation?\",\n",
    "      \"question_id\": \"q_comfort_sensation\",\n",
    "      \"response_options\": [{\n",
    "          \"text\": \"hot\",\n",
    "          \"icon\": \"\", #ICON\n",
    "          \"icon_background_color\": White,\n",
    "          \"use_sf_symbols\": False,\n",
    "          \"sf_symbols_color\": \"#000000\",\n",
    "          \"next_question_id\": \"q_comfort_behavioral\"\n",
    "        },\n",
    "        {\n",
    "          \"text\": \"warm\",\n",
    "          \"icon\": \"\",#ICON\n",
    "          \"icon_background_color\": White,\n",
    "          \"use_sf_symbols\": False,\n",
    "          \"sf_symbols_color\": \"#000000\",\n",
    "          \"next_question_id\": \"q_comfort_behavioral\"\n",
    "        },\n",
    "        {\n",
    "          \"text\": \"slightly warm\",\n",
    "          \"icon\": \"\",#ICON\n",
    "          \"icon_background_color\": White,\n",
    "          \"use_sf_symbols\": False,\n",
    "          \"sf_symbols_color\": \"#000000\",\n",
    "          \"next_question_id\": \"q_comfort_behavioral\"\n",
    "        },\n",
    "        {\n",
    "          \"text\": \"neutral\",\n",
    "          \"icon\": \"\",#ICON\n",
    "          \"icon_background_color\": White,\n",
    "          \"use_sf_symbols\": False,\n",
    "          \"sf_symbols_color\": \"#000000\",\n",
    "          \"next_question_id\": \"q_comfort_behavioral\"\n",
    "        },\n",
    "        {\n",
    "          \"text\": \"slightly cool\",\n",
    "          \"icon\": \"\",#ICON\n",
    "          \"icon_background_color\": White,\n",
    "          \"use_sf_symbols\": False,\n",
    "          \"sf_symbols_color\": \"#000000\",\n",
    "          \"next_question_id\": \"q_comfort_wind\"\n",
    "        }\n",
    "      ]\n",
    "    },\n",
    "    {\n",
    "      \"question\": \"Are you using anything to adjust yourself to the heat?\",\n",
    "      \"question_id\": \"q_comfort_behavioral\",\n",
    "      \"response_options\": [{\n",
    "          \"text\": \"Mobile Fan\",\n",
    "          \"icon\": \"\",#ICON\n",
    "          \"icon_background_color\": White,\n",
    "          \"use_sf_symbols\": False,\n",
    "          \"sf_symbols_color\": \"#000000\",\n",
    "          \"next_question_id\": \"q_comfort_heatstress\"\n",
    "        },\n",
    "        {\n",
    "          \"text\": \"Umbrella\",\n",
    "          \"icon\": \"\",#ICON\n",
    "          \"icon_background_color\": White,\n",
    "          \"use_sf_symbols\": False,\n",
    "          \"sf_symbols_color\": \"#000000\",\n",
    "          \"next_question_id\": \"q_comfort_heatstress\"\n",
    "        },\n",
    "        {\n",
    "          \"text\": \"Wet Towel\",\n",
    "          \"icon\": \"\",#ICON\n",
    "          \"icon_background_color\": White,\n",
    "          \"use_sf_symbols\": False,\n",
    "          \"sf_symbols_color\": \"#000000\",\n",
    "          \"next_question_id\": \"q_comfort_heatstress\"\n",
    "        },\n",
    "        {\n",
    "          \"text\": \"Cold drink\",\n",
    "          \"icon\": \"\",#ICON\n",
    "          \"icon_background_color\": White,\n",
    "          \"use_sf_symbols\": False,\n",
    "          \"sf_symbols_color\": \"#000000\",\n",
    "          \"next_question_id\": \"q_comfort_heatstress\"\n",
    "        },\n",
    "        {\n",
    "          \"text\": \"Sun Protectors\",\n",
    "          \"icon\": \"\",#ICON\n",
    "          \"icon_background_color\": White,\n",
    "          \"use_sf_symbols\": False,\n",
    "          \"sf_symbols_color\": \"#000000\",\n",
    "          \"next_question_id\": \"q_comfort_heatstress\"\n",
    "        },\n",
    "        {\n",
    "          \"text\": \"Nothing\",\n",
    "          \"icon\": \"\",#ICON\n",
    "          \"icon_background_color\": White,\n",
    "          \"use_sf_symbols\": False,\n",
    "          \"sf_symbols_color\": \"#000000\",\n",
    "          \"next_question_id\": \"q_comfort_heatstress\"\n",
    "        }\n",
    "      ]\n",
    "    },\n",
    "    {\n",
    "      \"question\": \"Do you feel that your body is currently experiencing heat stress?\",\n",
    "      \"question_id\": \"q_comfort_heatstress\",\n",
    "      \"response_options\": [{\n",
    "          \"text\": \"Yes\",\n",
    "          \"icon\": \"\",#ICON\n",
    "          \"icon_background_color\": White,\n",
    "          \"use_sf_symbols\": False,\n",
    "          \"sf_symbols_color\": \"#000000\",\n",
    "          \"next_question_id\": \"q_comfort_heatintensity\"\n",
    "        },\n",
    "        {\n",
    "          \"text\": \"No\",\n",
    "          \"icon\": \"\",#ICON\n",
    "          \"icon_background_color\": White,\n",
    "          \"use_sf_symbols\": False,\n",
    "          \"sf_symbols_color\": \"#000000\",\n",
    "          \"next_question_id\": \"q_comfort_wind\"\n",
    "        }\n",
    "      ]\n",
    "    },\n",
    "    {\n",
    "      \"question\": \"How would you rate the level of heat stress you are currently experciencing?\",\n",
    "      \"question_id\": \"q_comfort_heatintensity\",\n",
    "      \"response_options\": [{\n",
    "          \"text\": \" weak\",\n",
    "          \"icon\": \"\",#ICON\n",
    "          \"icon_background_color\": White,\n",
    "          \"use_sf_symbols\": False,\n",
    "          \"sf_symbols_color\": \"#000000\",\n",
    "          \"next_question_id\": \"q_comfort_heatsymptoms\"\n",
    "        },\n",
    "        {\n",
    "          \"text\": \"moderate\",\n",
    "          \"icon\": \"\",#ICON\n",
    "          \"icon_background_color\": White,\n",
    "          \"use_sf_symbols\": False,\n",
    "          \"sf_symbols_color\": \"#000000\",\n",
    "          \"next_question_id\": \"q_comfort_heatsymptoms\"\n",
    "        },\n",
    "        {\n",
    "          \"text\": \"strong\",\n",
    "          \"icon\": \"\",#ICON\n",
    "          \"icon_background_color\": White,\n",
    "          \"use_sf_symbols\": False,\n",
    "          \"sf_symbols_color\": \"#000000\",\n",
    "          \"next_question_id\": \"q_comfort_heatsymptoms\"\n",
    "        },\n",
    "        {\n",
    "          \"text\": \"extremely strong\",\n",
    "          \"icon\": \"\",#ICON\n",
    "          \"icon_background_color\": White,\n",
    "          \"use_sf_symbols\": False,\n",
    "          \"sf_symbols_color\": \"#000000\",\n",
    "          \"next_question_id\": \"q_comfort_heatsymptoms\"\n",
    "        }\n",
    "      ]\n",
    "    },\n",
    "    {\n",
    "      \"question\": \"Which of the symptoms is currently affecting you the most?\",\n",
    "      \"question_id\": \"q_comfort_heatsymptoms\",\n",
    "      \"response_options\": [{\n",
    "          \"text\": \"Headache\",\n",
    "          \"icon\": \"\",\n",
    "          \"icon_background_color\": White,\n",
    "          \"use_sf_symbols\": False,\n",
    "          \"sf_symbols_color\": \"#000000\",\n",
    "          \"next_question_id\": \"q_comfort_wind\"\n",
    "        },\n",
    "        {\n",
    "          \"text\": \"Nausea\",\n",
    "          \"icon\": \"\",\n",
    "          \"icon_background_color\": White,\n",
    "          \"use_sf_symbols\": False,\n",
    "          \"sf_symbols_color\": \"#000000\",\n",
    "          \"next_question_id\": \"q_comfort_wind\"\n",
    "        },\n",
    "        {\n",
    "          \"text\": \"Dizziness\",\n",
    "          \"icon\": \"\",\n",
    "          \"icon_background_color\": White,\n",
    "          \"use_sf_symbols\": False,\n",
    "          \"sf_symbols_color\": \"#000000\",\n",
    "          \"next_question_id\": \"q_comfort_wind\"\n",
    "        },\n",
    "        {\n",
    "          \"text\": \"Weakness\",\n",
    "          \"icon\": \"\",\n",
    "          \"icon_background_color\": White,\n",
    "          \"use_sf_symbols\": False,\n",
    "          \"sf_symbols_color\": \"#000000\",\n",
    "          \"next_question_id\": \"q_comfort_wind\"\n",
    "        },\n",
    "        {\n",
    "          \"text\": \"Irritability\",\n",
    "          \"icon\": \"\",\n",
    "          \"icon_background_color\": White,\n",
    "          \"use_sf_symbols\": False,\n",
    "          \"sf_symbols_color\": \"#000000\",\n",
    "          \"next_question_id\": \"q_comfort_wind\"\n",
    "        },\n",
    "        {\n",
    "          \"text\": \"Thirst\",\n",
    "          \"icon\": \"\",\n",
    "          \"icon_background_color\": White,\n",
    "          \"use_sf_symbols\": False,\n",
    "          \"sf_symbols_color\": \"#000000\",\n",
    "          \"next_question_id\": \"q_comfort_wind\"\n",
    "        },\n",
    "        {\n",
    "          \"text\": \"Heavy Sweating\",\n",
    "          \"icon\": \"\",\n",
    "          \"icon_background_color\": White,\n",
    "          \"use_sf_symbols\": False,\n",
    "          \"sf_symbols_color\": \"#000000\",\n",
    "          \"next_question_id\": \"q_comfort_wind\"\n",
    "        },\n",
    "        {\n",
    "          \"text\": \"High body temperature\",\n",
    "          \"icon\": \"\",\n",
    "          \"icon_background_color\": White,\n",
    "          \"use_sf_symbols\": False,\n",
    "          \"sf_symbols_color\": \"#000000\",\n",
    "          \"next_question_id\": \"q_comfort_wind\"\n",
    "        }\n",
    "      ]\n",
    "    },\n",
    "    {\n",
    "      \"question\": \"How do you feel about the wind at the moment?\",\n",
    "      \"question_id\": \"q_comfort_wind\",\n",
    "      \"response_options\": [{\n",
    "          \"text\": \"stale\",\n",
    "          \"icon\": \"\",\n",
    "          \"icon_background_color\": White,\n",
    "          \"use_sf_symbols\": False,\n",
    "          \"sf_symbols_color\": \"#000000\",\n",
    "          \"next_question_id\": \"q_comfort_humidity\"\n",
    "        },\n",
    "        {\n",
    "          \"text\": \"neutral\",\n",
    "          \"icon\": \"\",\n",
    "          \"icon_background_color\": White,\n",
    "          \"use_sf_symbols\": False,\n",
    "          \"sf_symbols_color\": \"#000000\",\n",
    "          \"next_question_id\": \"q_comfort_humidity\"\n",
    "        },\n",
    "        {\n",
    "          \"text\": \"windy\",\n",
    "          \"icon\": \"\",\n",
    "          \"icon_background_color\": White,\n",
    "          \"use_sf_symbols\": False,\n",
    "          \"sf_symbols_color\": \"#000000\",\n",
    "          \"next_question_id\": \"q_comfort_humidity\"\n",
    "        }\n",
    "      ]\n",
    "    },\n",
    "    {\n",
    "      \"question\": \"How do you feel about the air humidity at the moment?\",\n",
    "      \"question_id\": \"q_comfort_humidity\",\n",
    "      \"response_options\": [{\n",
    "          \"text\": \"humid\",\n",
    "          \"icon\": \"\",\n",
    "          \"icon_background_color\": White,\n",
    "          \"use_sf_symbols\": False,\n",
    "          \"sf_symbols_color\": \"#000000\",\n",
    "          \"next_question_id\": \"q_comfort_sun_a\"\n",
    "        },\n",
    "        {\n",
    "          \"text\": \"neutral\",\n",
    "          \"icon\": \"\",\n",
    "          \"icon_background_color\": White,\n",
    "          \"use_sf_symbols\": False,\n",
    "          \"sf_symbols_color\": \"#000000\",\n",
    "          \"next_question_id\": \"q_comfort_sun_a\"\n",
    "        },\n",
    "        {\n",
    "          \"text\": \"dry\",\n",
    "          \"icon\": \"\",\n",
    "          \"icon_background_color\": White,\n",
    "          \"use_sf_symbols\": False,\n",
    "          \"sf_symbols_color\": \"#000000\",\n",
    "          \"next_question_id\": \"q_comfort_sun_a\"\n",
    "        }\n",
    "      ]\n",
    "    },\n",
    "    {\n",
    "      \"question\": \"Are you directly exposed to the sun?\",\n",
    "      \"question_id\": \"q_comfort_sun_a\",\n",
    "      \"response_options\": [{\n",
    "          \"text\": \"Yes\",\n",
    "          \"icon\": \"\",\n",
    "          \"icon_background_color\": White,\n",
    "          \"use_sf_symbols\": False,\n",
    "          \"sf_symbols_color\": \"#000000\",\n",
    "          \"next_question_id\": \"q_comfort_sun_b\"\n",
    "        },\n",
    "        {\n",
    "          \"text\": \"No\",\n",
    "          \"icon\": \"\",\n",
    "          \"icon_background_color\": White,\n",
    "          \"use_sf_symbols\": False,\n",
    "          \"sf_symbols_color\": \"#000000\",\n",
    "          \"next_question_id\": \"q_environment_shade\"\n",
    "        },\n",
    "        {\n",
    "          \"text\": \"The sun is not shining\",\n",
    "          \"icon\": \"\",\n",
    "          \"icon_background_color\": White,\n",
    "          \"use_sf_symbols\": False,\n",
    "          \"sf_symbols_color\": \"#000000\",\n",
    "          \"next_question_id\": \"q_comfort_preference\"\n",
    "        }\n",
    "      ]\n",
    "    },\n",
    "    {\n",
    "      \"question\": \"How do you feel about the sun at the moment?\",\n",
    "      \"question_id\": \"q_comfort_sun_b\",\n",
    "      \"response_options\": [{\n",
    "          \"text\": \"weak\",\n",
    "          \"icon\": \"\",\n",
    "          \"icon_background_color\": White,\n",
    "          \"use_sf_symbols\": False,\n",
    "          \"sf_symbols_color\": \"#000000\",\n",
    "          \"next_question_id\": \"q_comfort_preference\"\n",
    "        },\n",
    "        {\n",
    "          \"text\": \"neutral\",\n",
    "          \"icon\": \"\",\n",
    "          \"icon_background_color\": White,\n",
    "          \"use_sf_symbols\": False,\n",
    "          \"sf_symbols_color\": \"#000000\",\n",
    "          \"next_question_id\": \"q_comfort_preference\"\n",
    "        },\n",
    "        {\n",
    "          \"text\": \"strong\",\n",
    "          \"icon\": \"\",\n",
    "          \"icon_background_color\": White,\n",
    "          \"use_sf_symbols\": False,\n",
    "          \"sf_symbols_color\": \"#000000\",\n",
    "          \"next_question_id\": \"q_comfort_preference\"\n",
    "        }\n",
    "      ]\n",
    "    },\n",
    "    {\n",
    "      \"question\": \"By what structures are you shaded?\",\n",
    "      \"question_id\": \"q_environment_shade\",\n",
    "      \"response_options\": [{\n",
    "          \"text\": \"Buildings\",\n",
    "          \"icon\": \"\",\n",
    "          \"icon_background_color\": White,\n",
    "          \"use_sf_symbols\": False,\n",
    "          \"sf_symbols_color\": \"#000000\",\n",
    "          \"next_question_id\": \"q_comfort_preference\"\n",
    "        },\n",
    "        {\n",
    "          \"text\": \"Vegetation\",\n",
    "          \"icon\": \"\",\n",
    "          \"icon_background_color\": White,\n",
    "          \"use_sf_symbols\": False,\n",
    "          \"sf_symbols_color\": \"#000000\",\n",
    "          \"next_question_id\": \"q_comfort_preference\"\n",
    "        },\n",
    "        {\n",
    "          \"text\": \"Shading Structures\",\n",
    "          \"icon\": \"\",\n",
    "          \"icon_background_color\": White,\n",
    "          \"use_sf_symbols\": False,\n",
    "          \"sf_symbols_color\": \"#000000\",\n",
    "          \"next_question_id\": \"q_comfort_preference\"\n",
    "        },\n",
    "        {\n",
    "          \"text\": \"Other\",\n",
    "          \"icon\": \"\",\n",
    "          \"icon_background_color\": White,\n",
    "          \"use_sf_symbols\": False,\n",
    "          \"sf_symbols_color\": \"#000000\",\n",
    "          \"next_question_id\": \"q_comfort_preference\"\n",
    "        }\n",
    "      ]\n",
    "    },\n",
    "    {\n",
    "      \"question\": \"Would you like to change your environment?\",\n",
    "      \"question_id\": \"q_comfort_preference\",\n",
    "      \"response_options\": [{\n",
    "          \"text\": \"Cooler\",\n",
    "          \"icon\": \"\",\n",
    "          \"icon_background_color\": White,\n",
    "          \"use_sf_symbols\": False,\n",
    "          \"sf_symbols_color\": \"#000000\",\n",
    "          \"next_question_id\": \"q_clothing_insulation\"\n",
    "        },\n",
    "        {\n",
    "          \"text\": \"No Change\",\n",
    "          \"icon\": \"\",\n",
    "          \"icon_background_color\": White,\n",
    "          \"use_sf_symbols\": False,\n",
    "          \"sf_symbols_color\": \"#000000\",\n",
    "          \"next_question_id\": \"q_clothing_insulation\"\n",
    "        },\n",
    "        {\n",
    "          \"text\": \"Warmer\",\n",
    "          \"icon\": \"\",\n",
    "          \"icon_background_color\": White,\n",
    "          \"use_sf_symbols\": False,\n",
    "          \"sf_symbols_color\": \"#000000\",\n",
    "          \"next_question_id\": \"q_clothing_insulation\" \n",
    "        }\n",
    "      ]\n",
    "    },\n",
    "    {\n",
    "      \"question\": \"How would you describe your clothing's insulation?\",\n",
    "      \"question_id\": \"q_clothing_insulation\",\n",
    "      \"response_options\": [{\n",
    "          \"text\": \"Light\",\n",
    "          \"icon\": \"\",\n",
    "          \"icon_background_color\": White,\n",
    "          \"use_sf_symbols\": False,\n",
    "          \"sf_symbols_color\": \"#000000\",\n",
    "          \"next_question_id\": \"q_clothing_color\"\n",
    "        },\n",
    "        {\n",
    "          \"text\": \"Medium\",\n",
    "          \"icon\": \"\",\n",
    "          \"icon_background_color\": White,\n",
    "          \"use_sf_symbols\": False,\n",
    "          \"sf_symbols_color\": \"#000000\",\n",
    "          \"next_question_id\": \"q_clothing_color\"\n",
    "        },\n",
    "        {\n",
    "          \"text\": \"Heavy\",\n",
    "          \"icon\": \"\",\n",
    "          \"icon_background_color\": White,\n",
    "          \"use_sf_symbols\": False,\n",
    "          \"sf_symbols_color\": \"#000000\",\n",
    "          \"next_question_id\": \"q_clothing_color\"\n",
    "        }\n",
    "      ]\n",
    "    },\n",
    "    {\n",
    "      \"question\": \"Your outfit is overall very dark in colors?\",\n",
    "      \"question_id\": \"q_clothing_color\",\n",
    "      \"response_options\": [{\n",
    "          \"text\": \"Agree\",\n",
    "          \"icon\": \"\",\n",
    "          \"icon_background_color\": White,\n",
    "          \"use_sf_symbols\": False,\n",
    "          \"sf_symbols_color\": \"#000000\",\n",
    "          \"next_question_id\": \"q_clothing_material\"\n",
    "        },\n",
    "        {\n",
    "          \"text\": \"Neutral\",\n",
    "          \"icon\": \"\",\n",
    "          \"icon_background_color\": White,\n",
    "          \"use_sf_symbols\": False,\n",
    "          \"sf_symbols_color\": \"#000000\",\n",
    "          \"next_question_id\": \"q_clothing_material\"\n",
    "        },\n",
    "        {\n",
    "          \"text\": \"Disagree\",\n",
    "          \"icon\": \"\",\n",
    "          \"icon_background_color\": White,\n",
    "          \"use_sf_symbols\": False,\n",
    "          \"sf_symbols_color\": \"#000000\",\n",
    "          \"next_question_id\": \"q_clothing_material\"\n",
    "        }\n",
    "      ]\n",
    "    },\n",
    "    {\n",
    "      \"question\": \"Your outfit is out of very breathable material?\",\n",
    "      \"question_id\": \"q_clothing_material\",\n",
    "      \"response_options\": [{\n",
    "          \"text\": \"Agree\",\n",
    "          \"icon\": \"\",\n",
    "          \"icon_background_color\": White,\n",
    "          \"use_sf_symbols\": False,\n",
    "          \"sf_symbols_color\": \"#000000\",\n",
    "          \"next_question_id\": \"\" #End\n",
    "        },\n",
    "        {\n",
    "          \"text\": \"Neutral\",\n",
    "          \"icon\": \"\",\n",
    "          \"icon_background_color\": White,\n",
    "          \"use_sf_symbols\": False,\n",
    "          \"sf_symbols_color\": \"#000000\",\n",
    "          \"next_question_id\": \"\" #End\n",
    "        },\n",
    "        {\n",
    "          \"text\": \"Disagree\",\n",
    "          \"icon\": \"\",\n",
    "          \"icon_background_color\": White,\n",
    "          \"use_sf_symbols\": False,\n",
    "          \"sf_symbols_color\": \"#000000\",\n",
    "          \"next_question_id\": \"\" #End\n",
    "        }\n",
    "      ]\n",
    "    }\n",
    "  ]\n",
    "}\n",
    "\n",
    "question_ids = [question[\"question_id\"] for question in json_data[\"survey\"]]\n",
    "pprint(question_ids)\n",
    "\n",
    "%store json_data"
   ]
  },
  {
   "cell_type": "code",
   "execution_count": 3,
   "metadata": {},
   "outputs": [
    {
     "name": "stdout",
     "output_type": "stream",
     "text": [
      "c:\\Users\\gottk\\OneDrive\\GITHUB\\calma-esse-heat-stress-internal\\Esse\\data\\watch_surveys\\ws_esse_2024-02-20_0950.json\n"
     ]
    }
   ],
   "source": [
    "# <--- Saving Json File to directory --->\n",
    "#Create a file based on the identifier from 'Main.ipynb'\n",
    "%store -r identifier\n",
    "%store -r directory_data_ws_path\n",
    "\n",
    "output_filename = os.path.join(directory_data_ws_path, f\"ws_esse_{identifier}.json\")\n",
    "with open(output_filename, 'w') as json_file:\n",
    "    json.dump(json_data, json_file, indent=2)\n",
    "\n",
    "print(output_filename)"
   ]
  },
  {
   "cell_type": "code",
   "execution_count": 4,
   "metadata": {},
   "outputs": [
    {
     "data": {
      "application/vnd.plotly.v1+json": {
       "config": {
        "plotlyServerURL": "https://plot.ly"
       },
       "data": [
        {
         "link": {
          "source": [
           4,
           4,
           8,
           8,
           8,
           8,
           8,
           2,
           2,
           2,
           2,
           7,
           7,
           7,
           7,
           16,
           16,
           16,
           16,
           16,
           0,
           0,
           0,
           0,
           0,
           19,
           19,
           19,
           19,
           19,
           13,
           13,
           13,
           13,
           13,
           13,
           9,
           9,
           3,
           3,
           3,
           3,
           15,
           15,
           15,
           15,
           15,
           15,
           15,
           15,
           17,
           17,
           17,
           6,
           6,
           6,
           1,
           1,
           1,
           10,
           10,
           10,
           11,
           11,
           11,
           11,
           14,
           14,
           14,
           5,
           5,
           5,
           12,
           12,
           12
          ],
          "target": [
           8,
           8,
           2,
           2,
           2,
           2,
           2,
           7,
           0,
           0,
           0,
           16,
           16,
           16,
           16,
           14,
           14,
           14,
           14,
           14,
           19,
           19,
           19,
           19,
           19,
           13,
           13,
           13,
           13,
           17,
           9,
           9,
           9,
           9,
           9,
           9,
           3,
           17,
           15,
           15,
           15,
           15,
           17,
           17,
           17,
           17,
           17,
           17,
           17,
           17,
           6,
           6,
           6,
           1,
           1,
           1,
           10,
           11,
           14,
           14,
           14,
           14,
           14,
           14,
           14,
           14,
           5,
           5,
           5,
           12,
           12,
           12,
           18,
           18,
           18
          ],
          "value": [
           1,
           1,
           1,
           1,
           1,
           1,
           1,
           1,
           1,
           1,
           1,
           1,
           1,
           1,
           1,
           1,
           1,
           1,
           1,
           1,
           1,
           1,
           1,
           1,
           1,
           1,
           1,
           1,
           1,
           1,
           1,
           1,
           1,
           1,
           1,
           1,
           1,
           1,
           1,
           1,
           1,
           1,
           1,
           1,
           1,
           1,
           1,
           1,
           1,
           1,
           1,
           1,
           1,
           1,
           1,
           1,
           1,
           1,
           1,
           1,
           1,
           1,
           1,
           1,
           1,
           1,
           1,
           1,
           1,
           1,
           1,
           1,
           1,
           1,
           1
          ]
         },
         "node": {
          "label": [
           "q_comfort_out-activity",
           "q_comfort_sun_a",
           "q_general_location_envi",
           "q_comfort_heatintensity",
           "q_general_location_area",
           "q_clothing_insulation",
           "q_comfort_humidity",
           "q_indoor_condition",
           "q_general_location_change",
           "q_comfort_heatstress",
           "q_comfort_sun_b",
           "q_environment_shade",
           "q_clothing_color",
           "q_comfort_behavioral",
           "q_comfort_preference",
           "q_comfort_heatsymptoms",
           "q_comfort_ind-activity",
           "q_comfort_wind",
           "q_clothing_material",
           "q_comfort_sensation"
          ]
         },
         "type": "sankey"
        }
       ],
       "layout": {
        "font": {
         "color": "black",
         "size": 10
        },
        "plot_bgcolor": "white",
        "template": {
         "data": {
          "bar": [
           {
            "error_x": {
             "color": "#2a3f5f"
            },
            "error_y": {
             "color": "#2a3f5f"
            },
            "marker": {
             "line": {
              "color": "#E5ECF6",
              "width": 0.5
             },
             "pattern": {
              "fillmode": "overlay",
              "size": 10,
              "solidity": 0.2
             }
            },
            "type": "bar"
           }
          ],
          "barpolar": [
           {
            "marker": {
             "line": {
              "color": "#E5ECF6",
              "width": 0.5
             },
             "pattern": {
              "fillmode": "overlay",
              "size": 10,
              "solidity": 0.2
             }
            },
            "type": "barpolar"
           }
          ],
          "carpet": [
           {
            "aaxis": {
             "endlinecolor": "#2a3f5f",
             "gridcolor": "white",
             "linecolor": "white",
             "minorgridcolor": "white",
             "startlinecolor": "#2a3f5f"
            },
            "baxis": {
             "endlinecolor": "#2a3f5f",
             "gridcolor": "white",
             "linecolor": "white",
             "minorgridcolor": "white",
             "startlinecolor": "#2a3f5f"
            },
            "type": "carpet"
           }
          ],
          "choropleth": [
           {
            "colorbar": {
             "outlinewidth": 0,
             "ticks": ""
            },
            "type": "choropleth"
           }
          ],
          "contour": [
           {
            "colorbar": {
             "outlinewidth": 0,
             "ticks": ""
            },
            "colorscale": [
             [
              0,
              "#0d0887"
             ],
             [
              0.1111111111111111,
              "#46039f"
             ],
             [
              0.2222222222222222,
              "#7201a8"
             ],
             [
              0.3333333333333333,
              "#9c179e"
             ],
             [
              0.4444444444444444,
              "#bd3786"
             ],
             [
              0.5555555555555556,
              "#d8576b"
             ],
             [
              0.6666666666666666,
              "#ed7953"
             ],
             [
              0.7777777777777778,
              "#fb9f3a"
             ],
             [
              0.8888888888888888,
              "#fdca26"
             ],
             [
              1,
              "#f0f921"
             ]
            ],
            "type": "contour"
           }
          ],
          "contourcarpet": [
           {
            "colorbar": {
             "outlinewidth": 0,
             "ticks": ""
            },
            "type": "contourcarpet"
           }
          ],
          "heatmap": [
           {
            "colorbar": {
             "outlinewidth": 0,
             "ticks": ""
            },
            "colorscale": [
             [
              0,
              "#0d0887"
             ],
             [
              0.1111111111111111,
              "#46039f"
             ],
             [
              0.2222222222222222,
              "#7201a8"
             ],
             [
              0.3333333333333333,
              "#9c179e"
             ],
             [
              0.4444444444444444,
              "#bd3786"
             ],
             [
              0.5555555555555556,
              "#d8576b"
             ],
             [
              0.6666666666666666,
              "#ed7953"
             ],
             [
              0.7777777777777778,
              "#fb9f3a"
             ],
             [
              0.8888888888888888,
              "#fdca26"
             ],
             [
              1,
              "#f0f921"
             ]
            ],
            "type": "heatmap"
           }
          ],
          "heatmapgl": [
           {
            "colorbar": {
             "outlinewidth": 0,
             "ticks": ""
            },
            "colorscale": [
             [
              0,
              "#0d0887"
             ],
             [
              0.1111111111111111,
              "#46039f"
             ],
             [
              0.2222222222222222,
              "#7201a8"
             ],
             [
              0.3333333333333333,
              "#9c179e"
             ],
             [
              0.4444444444444444,
              "#bd3786"
             ],
             [
              0.5555555555555556,
              "#d8576b"
             ],
             [
              0.6666666666666666,
              "#ed7953"
             ],
             [
              0.7777777777777778,
              "#fb9f3a"
             ],
             [
              0.8888888888888888,
              "#fdca26"
             ],
             [
              1,
              "#f0f921"
             ]
            ],
            "type": "heatmapgl"
           }
          ],
          "histogram": [
           {
            "marker": {
             "pattern": {
              "fillmode": "overlay",
              "size": 10,
              "solidity": 0.2
             }
            },
            "type": "histogram"
           }
          ],
          "histogram2d": [
           {
            "colorbar": {
             "outlinewidth": 0,
             "ticks": ""
            },
            "colorscale": [
             [
              0,
              "#0d0887"
             ],
             [
              0.1111111111111111,
              "#46039f"
             ],
             [
              0.2222222222222222,
              "#7201a8"
             ],
             [
              0.3333333333333333,
              "#9c179e"
             ],
             [
              0.4444444444444444,
              "#bd3786"
             ],
             [
              0.5555555555555556,
              "#d8576b"
             ],
             [
              0.6666666666666666,
              "#ed7953"
             ],
             [
              0.7777777777777778,
              "#fb9f3a"
             ],
             [
              0.8888888888888888,
              "#fdca26"
             ],
             [
              1,
              "#f0f921"
             ]
            ],
            "type": "histogram2d"
           }
          ],
          "histogram2dcontour": [
           {
            "colorbar": {
             "outlinewidth": 0,
             "ticks": ""
            },
            "colorscale": [
             [
              0,
              "#0d0887"
             ],
             [
              0.1111111111111111,
              "#46039f"
             ],
             [
              0.2222222222222222,
              "#7201a8"
             ],
             [
              0.3333333333333333,
              "#9c179e"
             ],
             [
              0.4444444444444444,
              "#bd3786"
             ],
             [
              0.5555555555555556,
              "#d8576b"
             ],
             [
              0.6666666666666666,
              "#ed7953"
             ],
             [
              0.7777777777777778,
              "#fb9f3a"
             ],
             [
              0.8888888888888888,
              "#fdca26"
             ],
             [
              1,
              "#f0f921"
             ]
            ],
            "type": "histogram2dcontour"
           }
          ],
          "mesh3d": [
           {
            "colorbar": {
             "outlinewidth": 0,
             "ticks": ""
            },
            "type": "mesh3d"
           }
          ],
          "parcoords": [
           {
            "line": {
             "colorbar": {
              "outlinewidth": 0,
              "ticks": ""
             }
            },
            "type": "parcoords"
           }
          ],
          "pie": [
           {
            "automargin": true,
            "type": "pie"
           }
          ],
          "scatter": [
           {
            "fillpattern": {
             "fillmode": "overlay",
             "size": 10,
             "solidity": 0.2
            },
            "type": "scatter"
           }
          ],
          "scatter3d": [
           {
            "line": {
             "colorbar": {
              "outlinewidth": 0,
              "ticks": ""
             }
            },
            "marker": {
             "colorbar": {
              "outlinewidth": 0,
              "ticks": ""
             }
            },
            "type": "scatter3d"
           }
          ],
          "scattercarpet": [
           {
            "marker": {
             "colorbar": {
              "outlinewidth": 0,
              "ticks": ""
             }
            },
            "type": "scattercarpet"
           }
          ],
          "scattergeo": [
           {
            "marker": {
             "colorbar": {
              "outlinewidth": 0,
              "ticks": ""
             }
            },
            "type": "scattergeo"
           }
          ],
          "scattergl": [
           {
            "marker": {
             "colorbar": {
              "outlinewidth": 0,
              "ticks": ""
             }
            },
            "type": "scattergl"
           }
          ],
          "scattermapbox": [
           {
            "marker": {
             "colorbar": {
              "outlinewidth": 0,
              "ticks": ""
             }
            },
            "type": "scattermapbox"
           }
          ],
          "scatterpolar": [
           {
            "marker": {
             "colorbar": {
              "outlinewidth": 0,
              "ticks": ""
             }
            },
            "type": "scatterpolar"
           }
          ],
          "scatterpolargl": [
           {
            "marker": {
             "colorbar": {
              "outlinewidth": 0,
              "ticks": ""
             }
            },
            "type": "scatterpolargl"
           }
          ],
          "scatterternary": [
           {
            "marker": {
             "colorbar": {
              "outlinewidth": 0,
              "ticks": ""
             }
            },
            "type": "scatterternary"
           }
          ],
          "surface": [
           {
            "colorbar": {
             "outlinewidth": 0,
             "ticks": ""
            },
            "colorscale": [
             [
              0,
              "#0d0887"
             ],
             [
              0.1111111111111111,
              "#46039f"
             ],
             [
              0.2222222222222222,
              "#7201a8"
             ],
             [
              0.3333333333333333,
              "#9c179e"
             ],
             [
              0.4444444444444444,
              "#bd3786"
             ],
             [
              0.5555555555555556,
              "#d8576b"
             ],
             [
              0.6666666666666666,
              "#ed7953"
             ],
             [
              0.7777777777777778,
              "#fb9f3a"
             ],
             [
              0.8888888888888888,
              "#fdca26"
             ],
             [
              1,
              "#f0f921"
             ]
            ],
            "type": "surface"
           }
          ],
          "table": [
           {
            "cells": {
             "fill": {
              "color": "#EBF0F8"
             },
             "line": {
              "color": "white"
             }
            },
            "header": {
             "fill": {
              "color": "#C8D4E3"
             },
             "line": {
              "color": "white"
             }
            },
            "type": "table"
           }
          ]
         },
         "layout": {
          "annotationdefaults": {
           "arrowcolor": "#2a3f5f",
           "arrowhead": 0,
           "arrowwidth": 1
          },
          "autotypenumbers": "strict",
          "coloraxis": {
           "colorbar": {
            "outlinewidth": 0,
            "ticks": ""
           }
          },
          "colorscale": {
           "diverging": [
            [
             0,
             "#8e0152"
            ],
            [
             0.1,
             "#c51b7d"
            ],
            [
             0.2,
             "#de77ae"
            ],
            [
             0.3,
             "#f1b6da"
            ],
            [
             0.4,
             "#fde0ef"
            ],
            [
             0.5,
             "#f7f7f7"
            ],
            [
             0.6,
             "#e6f5d0"
            ],
            [
             0.7,
             "#b8e186"
            ],
            [
             0.8,
             "#7fbc41"
            ],
            [
             0.9,
             "#4d9221"
            ],
            [
             1,
             "#276419"
            ]
           ],
           "sequential": [
            [
             0,
             "#0d0887"
            ],
            [
             0.1111111111111111,
             "#46039f"
            ],
            [
             0.2222222222222222,
             "#7201a8"
            ],
            [
             0.3333333333333333,
             "#9c179e"
            ],
            [
             0.4444444444444444,
             "#bd3786"
            ],
            [
             0.5555555555555556,
             "#d8576b"
            ],
            [
             0.6666666666666666,
             "#ed7953"
            ],
            [
             0.7777777777777778,
             "#fb9f3a"
            ],
            [
             0.8888888888888888,
             "#fdca26"
            ],
            [
             1,
             "#f0f921"
            ]
           ],
           "sequentialminus": [
            [
             0,
             "#0d0887"
            ],
            [
             0.1111111111111111,
             "#46039f"
            ],
            [
             0.2222222222222222,
             "#7201a8"
            ],
            [
             0.3333333333333333,
             "#9c179e"
            ],
            [
             0.4444444444444444,
             "#bd3786"
            ],
            [
             0.5555555555555556,
             "#d8576b"
            ],
            [
             0.6666666666666666,
             "#ed7953"
            ],
            [
             0.7777777777777778,
             "#fb9f3a"
            ],
            [
             0.8888888888888888,
             "#fdca26"
            ],
            [
             1,
             "#f0f921"
            ]
           ]
          },
          "colorway": [
           "#636efa",
           "#EF553B",
           "#00cc96",
           "#ab63fa",
           "#FFA15A",
           "#19d3f3",
           "#FF6692",
           "#B6E880",
           "#FF97FF",
           "#FECB52"
          ],
          "font": {
           "color": "#2a3f5f"
          },
          "geo": {
           "bgcolor": "white",
           "lakecolor": "white",
           "landcolor": "#E5ECF6",
           "showlakes": true,
           "showland": true,
           "subunitcolor": "white"
          },
          "hoverlabel": {
           "align": "left"
          },
          "hovermode": "closest",
          "mapbox": {
           "style": "light"
          },
          "paper_bgcolor": "white",
          "plot_bgcolor": "#E5ECF6",
          "polar": {
           "angularaxis": {
            "gridcolor": "white",
            "linecolor": "white",
            "ticks": ""
           },
           "bgcolor": "#E5ECF6",
           "radialaxis": {
            "gridcolor": "white",
            "linecolor": "white",
            "ticks": ""
           }
          },
          "scene": {
           "xaxis": {
            "backgroundcolor": "#E5ECF6",
            "gridcolor": "white",
            "gridwidth": 2,
            "linecolor": "white",
            "showbackground": true,
            "ticks": "",
            "zerolinecolor": "white"
           },
           "yaxis": {
            "backgroundcolor": "#E5ECF6",
            "gridcolor": "white",
            "gridwidth": 2,
            "linecolor": "white",
            "showbackground": true,
            "ticks": "",
            "zerolinecolor": "white"
           },
           "zaxis": {
            "backgroundcolor": "#E5ECF6",
            "gridcolor": "white",
            "gridwidth": 2,
            "linecolor": "white",
            "showbackground": true,
            "ticks": "",
            "zerolinecolor": "white"
           }
          },
          "shapedefaults": {
           "line": {
            "color": "#2a3f5f"
           }
          },
          "ternary": {
           "aaxis": {
            "gridcolor": "white",
            "linecolor": "white",
            "ticks": ""
           },
           "baxis": {
            "gridcolor": "white",
            "linecolor": "white",
            "ticks": ""
           },
           "bgcolor": "#E5ECF6",
           "caxis": {
            "gridcolor": "white",
            "linecolor": "white",
            "ticks": ""
           }
          },
          "title": {
           "x": 0.05
          },
          "xaxis": {
           "automargin": true,
           "gridcolor": "white",
           "linecolor": "white",
           "ticks": "",
           "title": {
            "standoff": 15
           },
           "zerolinecolor": "white",
           "zerolinewidth": 2
          },
          "yaxis": {
           "automargin": true,
           "gridcolor": "white",
           "linecolor": "white",
           "ticks": "",
           "title": {
            "standoff": 15
           },
           "zerolinecolor": "white",
           "zerolinewidth": 2
          }
         }
        },
        "title": {
         "text": "Outdoor Comfort - Heat Stress Workflow"
        }
       }
      }
     },
     "metadata": {},
     "output_type": "display_data"
    }
   ],
   "source": [
    "# <--- Vizualiziation of Json File --->\n",
    "#Here the data will be stored based on the identifier (time) under 'data\\watch_sureys' which can be later retreived again, for faster processing.\n",
    "import plotly.graph_objects as go\n",
    "\n",
    "#Manually define the filename\n",
    "#output_filename = 'ws_esse_2024-02-16_0026'\n",
    "\n",
    "\n",
    "# Load the saved JSON file\n",
    "with open(output_filename) as f:\n",
    "    data = json.load(f)\n",
    "\n",
    "# Extracting question IDs and their next question IDs\n",
    "flows = []\n",
    "for question in data['survey']:\n",
    "    question_id = question['question_id']\n",
    "    for response in question['response_options']:\n",
    "        next_question_id = response['next_question_id']\n",
    "        if next_question_id:\n",
    "            flows.append((question_id, next_question_id))\n",
    "\n",
    "# Creating node and link lists for Plotly Sankey diagram\n",
    "node_labels = list(set(sum(flows, ())))\n",
    "node_dict = {val: idx for idx, val in enumerate(node_labels)}\n",
    "link_source = [node_dict[source] for source, _ in flows]\n",
    "link_target = [node_dict[target] for _, target in flows]\n",
    "link_value = [1] * len(flows)\n",
    "\n",
    "# Creating the Sankey diagram\n",
    "fig = go.Figure(data=[go.Sankey(\n",
    "    node=dict(\n",
    "        label=node_labels\n",
    "    ),\n",
    "    link=dict(\n",
    "        source=link_source,\n",
    "        target=link_target,\n",
    "        value=link_value\n",
    "    )\n",
    ")])\n",
    "\n",
    "# Update layout\n",
    "fig.update_layout(\n",
    "    title=data['survey_name'] + \" Workflow\",\n",
    "    font=dict(size=10, color='black'),\n",
    "    plot_bgcolor='white'\n",
    ")\n",
    "\n",
    "# Show plot\n",
    "fig.show()"
   ]
  },
  {
   "cell_type": "code",
   "execution_count": 5,
   "metadata": {},
   "outputs": [
    {
     "name": "stdout",
     "output_type": "stream",
     "text": [
      "Diagram saved as c:\\Users\\gottk\\OneDrive\\GITHUB\\calma-esse-heat-stress-internal\\Esse\\data\\watch_surveys\\ws_esse_2024-02-20_0950_pydot.png\n"
     ]
    }
   ],
   "source": [
    "import json\n",
    "import pydot\n",
    "\n",
    "# Manually define the filename\n",
    "#output_filename = 'ws_esse_2024-02-16_0026'\n",
    "\n",
    "# Load the saved JSON file\n",
    "with open(output_filename) as f:\n",
    "    data = json.load(f)\n",
    "\n",
    "# Extracting question IDs and their next question IDs\n",
    "flows = []\n",
    "for question in data['survey']:\n",
    "    question_id = question['question_id']\n",
    "    for response in question['response_options']:\n",
    "        next_question_id = response['next_question_id']\n",
    "        if next_question_id:\n",
    "            flows.append((question_id, next_question_id))\n",
    "\n",
    "# Creating a new graph\n",
    "graph = pydot.Dot(graph_type='digraph')\n",
    "\n",
    "# Adding nodes to the graph\n",
    "nodes = set(sum(flows, ()))\n",
    "node_dict = {node: pydot.Node(node) for node in nodes}\n",
    "for node in node_dict.values():\n",
    "    graph.add_node(node)\n",
    "\n",
    "# Adding edges to the graph\n",
    "for source, target in flows:\n",
    "    edge = pydot.Edge(node_dict[source], node_dict[target])\n",
    "    graph.add_edge(edge)\n",
    "\n",
    "# Saving the graph as a PNG file\n",
    "output_ws_png_filename = os.path.join(directory_data_ws_path, f\"ws_esse_{identifier}_pydot.png\")\n",
    "graph.write_png(output_ws_png_filename)\n",
    "\n",
    "print(f\"Diagram saved as {output_ws_png_filename}\")\n"
   ]
  },
  {
   "cell_type": "code",
   "execution_count": 6,
   "metadata": {},
   "outputs": [
    {
     "name": "stdout",
     "output_type": "stream",
     "text": [
      "\"dot\" with args ['-Tpng', 'C:\\\\Users\\\\gottk\\\\AppData\\\\Local\\\\Temp\\\\tmpxf1m0ilt'] returned code: 1\n",
      "\n",
      "stdout, stderr:\n",
      " b''\n",
      "b\"Error: C:\\\\Users\\\\gottk\\\\AppData\\\\Local\\\\Temp\\\\tmpxf1m0ilt: syntax error in line 85 near '['\\r\\n\"\n",
      "\n"
     ]
    },
    {
     "ename": "AssertionError",
     "evalue": "\"dot\" with args ['-Tpng', 'C:\\\\Users\\\\gottk\\\\AppData\\\\Local\\\\Temp\\\\tmpxf1m0ilt'] returned code: 1",
     "output_type": "error",
     "traceback": [
      "\u001b[1;31m---------------------------------------------------------------------------\u001b[0m",
      "\u001b[1;31mAssertionError\u001b[0m                            Traceback (most recent call last)",
      "Cell \u001b[1;32mIn[6], line 31\u001b[0m\n\u001b[0;32m     29\u001b[0m \u001b[38;5;66;03m# Saving the graph as a PNG file\u001b[39;00m\n\u001b[0;32m     30\u001b[0m output_ws_png_filename \u001b[38;5;241m=\u001b[39m os\u001b[38;5;241m.\u001b[39mpath\u001b[38;5;241m.\u001b[39mjoin(directory_data_ws_path, \u001b[38;5;124mf\u001b[39m\u001b[38;5;124m\"\u001b[39m\u001b[38;5;124mws_esse_\u001b[39m\u001b[38;5;132;01m{\u001b[39;00midentifier\u001b[38;5;132;01m}\u001b[39;00m\u001b[38;5;124m_pydot.png\u001b[39m\u001b[38;5;124m\"\u001b[39m)\n\u001b[1;32m---> 31\u001b[0m \u001b[43mgraph\u001b[49m\u001b[38;5;241;43m.\u001b[39;49m\u001b[43mwrite_png\u001b[49m\u001b[43m(\u001b[49m\u001b[43moutput_ws_png_filename\u001b[49m\u001b[43m)\u001b[49m\n\u001b[0;32m     33\u001b[0m \u001b[38;5;28mprint\u001b[39m(\u001b[38;5;124mf\u001b[39m\u001b[38;5;124m\"\u001b[39m\u001b[38;5;124mDiagram saved as \u001b[39m\u001b[38;5;132;01m{\u001b[39;00moutput_ws_png_filename\u001b[38;5;132;01m}\u001b[39;00m\u001b[38;5;124m\"\u001b[39m)\n",
      "File \u001b[1;32mc:\\Users\\gottk\\AppData\\Local\\Programs\\Python\\Python310\\lib\\site-packages\\pydot\\core.py:1587\u001b[0m, in \u001b[0;36mDot.__init__.<locals>.new_method\u001b[1;34m(path, f, prog, encoding)\u001b[0m\n\u001b[0;32m   1585\u001b[0m \u001b[38;5;28;01mdef\u001b[39;00m \u001b[38;5;21mnew_method\u001b[39m(path, f\u001b[38;5;241m=\u001b[39mfrmt, prog\u001b[38;5;241m=\u001b[39m\u001b[38;5;28;01mNone\u001b[39;00m, encoding\u001b[38;5;241m=\u001b[39m\u001b[38;5;28;01mNone\u001b[39;00m):\n\u001b[0;32m   1586\u001b[0m \u001b[38;5;250m    \u001b[39m\u001b[38;5;124;03m\"\"\"Refer to docstring of method `write.`\"\"\"\u001b[39;00m\n\u001b[1;32m-> 1587\u001b[0m     \u001b[38;5;28;43mself\u001b[39;49m\u001b[38;5;241;43m.\u001b[39;49m\u001b[43mwrite\u001b[49m\u001b[43m(\u001b[49m\u001b[43mpath\u001b[49m\u001b[43m,\u001b[49m\u001b[43m \u001b[49m\u001b[38;5;28;43mformat\u001b[39;49m\u001b[38;5;241;43m=\u001b[39;49m\u001b[43mf\u001b[49m\u001b[43m,\u001b[49m\u001b[43m \u001b[49m\u001b[43mprog\u001b[49m\u001b[38;5;241;43m=\u001b[39;49m\u001b[43mprog\u001b[49m\u001b[43m,\u001b[49m\u001b[43m \u001b[49m\u001b[43mencoding\u001b[49m\u001b[38;5;241;43m=\u001b[39;49m\u001b[43mencoding\u001b[49m\u001b[43m)\u001b[49m\n",
      "File \u001b[1;32mc:\\Users\\gottk\\AppData\\Local\\Programs\\Python\\Python310\\lib\\site-packages\\pydot\\core.py:1662\u001b[0m, in \u001b[0;36mDot.write\u001b[1;34m(self, path, prog, format, encoding)\u001b[0m\n\u001b[0;32m   1660\u001b[0m         f\u001b[38;5;241m.\u001b[39mwrite(s)\n\u001b[0;32m   1661\u001b[0m \u001b[38;5;28;01melse\u001b[39;00m:\n\u001b[1;32m-> 1662\u001b[0m     s \u001b[38;5;241m=\u001b[39m \u001b[38;5;28;43mself\u001b[39;49m\u001b[38;5;241;43m.\u001b[39;49m\u001b[43mcreate\u001b[49m\u001b[43m(\u001b[49m\u001b[43mprog\u001b[49m\u001b[43m,\u001b[49m\u001b[43m \u001b[49m\u001b[38;5;28;43mformat\u001b[39;49m\u001b[43m,\u001b[49m\u001b[43m \u001b[49m\u001b[43mencoding\u001b[49m\u001b[38;5;241;43m=\u001b[39;49m\u001b[43mencoding\u001b[49m\u001b[43m)\u001b[49m\n\u001b[0;32m   1663\u001b[0m     \u001b[38;5;28;01mwith\u001b[39;00m io\u001b[38;5;241m.\u001b[39mopen(path, mode\u001b[38;5;241m=\u001b[39m\u001b[38;5;124m\"\u001b[39m\u001b[38;5;124mwb\u001b[39m\u001b[38;5;124m\"\u001b[39m) \u001b[38;5;28;01mas\u001b[39;00m f:\n\u001b[0;32m   1664\u001b[0m         f\u001b[38;5;241m.\u001b[39mwrite(s)\n",
      "File \u001b[1;32mc:\\Users\\gottk\\AppData\\Local\\Programs\\Python\\Python310\\lib\\site-packages\\pydot\\core.py:1785\u001b[0m, in \u001b[0;36mDot.create\u001b[1;34m(self, prog, format, encoding)\u001b[0m\n\u001b[0;32m   1773\u001b[0m     message \u001b[38;5;241m=\u001b[39m (\n\u001b[0;32m   1774\u001b[0m         \u001b[38;5;124m'\u001b[39m\u001b[38;5;124m\"\u001b[39m\u001b[38;5;132;01m{prog}\u001b[39;00m\u001b[38;5;124m\"\u001b[39m\u001b[38;5;124m with args \u001b[39m\u001b[38;5;132;01m{arguments}\u001b[39;00m\u001b[38;5;124m returned code: \u001b[39m\u001b[38;5;132;01m{code}\u001b[39;00m\u001b[38;5;130;01m\\n\u001b[39;00m\u001b[38;5;130;01m\\n\u001b[39;00m\u001b[38;5;124m'\u001b[39m\n\u001b[0;32m   1775\u001b[0m         \u001b[38;5;124m\"\u001b[39m\u001b[38;5;124mstdout, stderr:\u001b[39m\u001b[38;5;130;01m\\n\u001b[39;00m\u001b[38;5;124m \u001b[39m\u001b[38;5;132;01m{out}\u001b[39;00m\u001b[38;5;130;01m\\n\u001b[39;00m\u001b[38;5;132;01m{err}\u001b[39;00m\u001b[38;5;130;01m\\n\u001b[39;00m\u001b[38;5;124m\"\u001b[39m\n\u001b[1;32m   (...)\u001b[0m\n\u001b[0;32m   1781\u001b[0m         err\u001b[38;5;241m=\u001b[39mstderr_data,\n\u001b[0;32m   1782\u001b[0m     )\n\u001b[0;32m   1783\u001b[0m     \u001b[38;5;28mprint\u001b[39m(message)\n\u001b[1;32m-> 1785\u001b[0m \u001b[38;5;28;01massert\u001b[39;00m (\n\u001b[0;32m   1786\u001b[0m     process\u001b[38;5;241m.\u001b[39mreturncode \u001b[38;5;241m==\u001b[39m \u001b[38;5;241m0\u001b[39m\n\u001b[0;32m   1787\u001b[0m ), \u001b[38;5;124m'\u001b[39m\u001b[38;5;124m\"\u001b[39m\u001b[38;5;132;01m{prog}\u001b[39;00m\u001b[38;5;124m\"\u001b[39m\u001b[38;5;124m with args \u001b[39m\u001b[38;5;132;01m{arguments}\u001b[39;00m\u001b[38;5;124m returned code: \u001b[39m\u001b[38;5;132;01m{code}\u001b[39;00m\u001b[38;5;124m'\u001b[39m\u001b[38;5;241m.\u001b[39mformat(\n\u001b[0;32m   1788\u001b[0m     prog\u001b[38;5;241m=\u001b[39mprog,\n\u001b[0;32m   1789\u001b[0m     arguments\u001b[38;5;241m=\u001b[39marguments,\n\u001b[0;32m   1790\u001b[0m     code\u001b[38;5;241m=\u001b[39mprocess\u001b[38;5;241m.\u001b[39mreturncode,\n\u001b[0;32m   1791\u001b[0m )\n\u001b[0;32m   1793\u001b[0m \u001b[38;5;28;01mreturn\u001b[39;00m stdout_data\n",
      "\u001b[1;31mAssertionError\u001b[0m: \"dot\" with args ['-Tpng', 'C:\\\\Users\\\\gottk\\\\AppData\\\\Local\\\\Temp\\\\tmpxf1m0ilt'] returned code: 1"
     ]
    }
   ],
   "source": [
    "# Extracting question IDs and their next question IDs along with response options\n",
    "flows = []\n",
    "for question_data in json_data['survey']:\n",
    "    question_id = question_data['question_id']\n",
    "    flows.append((\"Start\", question_id))  # Add edge from \"Start\" node to question node\n",
    "    for response_option in question_data['response_options']:\n",
    "        flows.append((question_id, response_option['text']))  # Connect question to response option\n",
    "        flows.append((response_option['text'], response_option['next_question_id']))  # Connect response option to next question\n",
    "\n",
    "# Creating a new graph\n",
    "graph = pydot.Dot(graph_type='digraph')\n",
    "\n",
    "# Adding nodes to the graph\n",
    "node_dict = {}\n",
    "for source, target in flows:\n",
    "    if source not in node_dict:\n",
    "        shape = 'rectangle' if source.startswith('q_') else 'circle'\n",
    "        node_dict[source] = pydot.Node(source, shape=shape)\n",
    "        graph.add_node(node_dict[source])\n",
    "    if target not in node_dict:\n",
    "        node_dict[target] = pydot.Node(target, shape='circle')\n",
    "        graph.add_node(node_dict[target])\n",
    "\n",
    "# Adding edges to the graph\n",
    "for source, target in flows:\n",
    "    edge = pydot.Edge(node_dict[source], node_dict[target])\n",
    "    graph.add_edge(edge)\n",
    "\n",
    "# Saving the graph as a PNG file\n",
    "output_ws_png_filename = os.path.join(directory_data_ws_path, f\"ws_esse_{identifier}_pydot.png\")\n",
    "graph.write_png(output_ws_png_filename)\n",
    "\n",
    "print(f\"Diagram saved as {output_ws_png_filename}\")\n"
   ]
  }
 ],
 "metadata": {
  "kernelspec": {
   "display_name": "Python 3",
   "language": "python",
   "name": "python3"
  },
  "language_info": {
   "codemirror_mode": {
    "name": "ipython",
    "version": 3
   },
   "file_extension": ".py",
   "mimetype": "text/x-python",
   "name": "python",
   "nbconvert_exporter": "python",
   "pygments_lexer": "ipython3",
   "version": "3.10.0"
  }
 },
 "nbformat": 4,
 "nbformat_minor": 2
}
